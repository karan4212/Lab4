{
 "cells": [
  {
   "cell_type": "code",
   "execution_count": 49,
   "metadata": {
    "colab": {
     "base_uri": "https://localhost:8080/",
     "height": 1000
    },
    "colab_type": "code",
    "id": "PbotKHr7mzSP",
    "outputId": "dee26f1a-fd8c-44c3-aa7c-dd90772f5c04",
    "scrolled": false
   },
   "outputs": [],
   "source": [
    "import math, string\n",
    "\n",
    "with open ('words.txt') as my_file:\n",
    "    for text in my_file:\n",
    "        for word in text.split():\n",
    "            word=word.lower()\n",
    "            word=word.strip()\n",
    "            for one in string.punctuation:\n",
    "                if one in word:\n",
    "                    word=word.replace(one,\"\")\n",
    "\n",
    "            print(word)"
   ]
  },
  {
   "cell_type": "code",
   "execution_count": 13,
   "metadata": {
    "colab": {
     "base_uri": "https://localhost:8080/",
     "height": 70
    },
    "colab_type": "code",
    "id": "B8ThhgJoo_zX",
    "outputId": "3d78de0d-66c4-4571-b7d7-181ce40c0f17"
   },
   "outputs": [
    {
     "name": "stdout",
     "output_type": "stream",
     "text": [
      "total number of the wors in that file is :  3641888\n"
     ]
    }
   ],
   "source": [
    "\n",
    "import math, string\n",
    "\n",
    "word=dict()\n",
    "with open ('words.txt') as my_file:\n",
    "    for line in my_file:\n",
    "        for txt in line.split():\n",
    "            txt=txt.lower()\n",
    "            txt=txt.strip()\n",
    "            for one in string.punctuation:\n",
    "                if one in txt:\n",
    "                    txt=txt.replace(one,\"\")\n",
    "                if txt in word:\n",
    "                    word[txt] = word[txt] + 1\n",
    "                else:\n",
    "                    word[txt] = 1\n",
    "    add=0\n",
    "    for item in word:\n",
    "        add = add + word[item]\n",
    "\n",
    "    print(word)\n",
    "    print(\"total number of the wors in that file is : \",add)"
   ]
  },
  {
   "cell_type": "code",
   "execution_count": 4,
   "metadata": {
    "colab": {
     "base_uri": "https://localhost:8080/",
     "height": 353
    },
    "colab_type": "code",
    "id": "E-tWDQhv4tUQ",
    "outputId": "858f8f14-57a9-4412-a3fe-5cf6e86959f2"
   },
   "outputs": [
    {
     "ename": "NameError",
     "evalue": "name 'word' is not defined",
     "output_type": "error",
     "traceback": [
      "\u001b[0;31m---------------------------------------------------------------------------\u001b[0m",
      "\u001b[0;31mNameError\u001b[0m                                 Traceback (most recent call last)",
      "\u001b[0;32m<ipython-input-4-066da315eb64>\u001b[0m in \u001b[0;36m<module>\u001b[0;34m\u001b[0m\n\u001b[1;32m      1\u001b[0m \u001b[0mlist\u001b[0m \u001b[0;34m=\u001b[0m \u001b[0;34m[\u001b[0m\u001b[0;34m]\u001b[0m\u001b[0;34m\u001b[0m\u001b[0;34m\u001b[0m\u001b[0m\n\u001b[0;32m----> 2\u001b[0;31m \u001b[0;32mfor\u001b[0m \u001b[0mkey\u001b[0m\u001b[0;34m,\u001b[0m \u001b[0mvalue\u001b[0m \u001b[0;32min\u001b[0m \u001b[0mword\u001b[0m\u001b[0;34m:\u001b[0m\u001b[0;34m\u001b[0m\u001b[0;34m\u001b[0m\u001b[0m\n\u001b[0m\u001b[1;32m      3\u001b[0m     \u001b[0mlist\u001b[0m\u001b[0;34m.\u001b[0m\u001b[0mappend\u001b[0m\u001b[0;34m(\u001b[0m\u001b[0;34m(\u001b[0m\u001b[0mvalue\u001b[0m\u001b[0;34m,\u001b[0m\u001b[0mkey\u001b[0m\u001b[0;34m)\u001b[0m\u001b[0;34m)\u001b[0m\u001b[0;34m\u001b[0m\u001b[0;34m\u001b[0m\u001b[0m\n\u001b[1;32m      4\u001b[0m     \u001b[0mlist\u001b[0m\u001b[0;34m.\u001b[0m\u001b[0msort\u001b[0m\u001b[0;34m(\u001b[0m\u001b[0mreverse\u001b[0m\u001b[0;34m=\u001b[0m\u001b[0;32mTrue\u001b[0m\u001b[0;34m)\u001b[0m\u001b[0;34m\u001b[0m\u001b[0;34m\u001b[0m\u001b[0m\n\u001b[1;32m      5\u001b[0m \u001b[0;34m\u001b[0m\u001b[0m\n",
      "\u001b[0;31mNameError\u001b[0m: name 'word' is not defined"
     ]
    }
   ],
   "source": [
    "list = []\n",
    "for key, value in word:\n",
    "    list.append((value,key))\n",
    "    list.sort(reverse=True)\n",
    "\n",
    "for list in range(20):\n",
    "    print(lst[list])\n",
    "    print(len(d))"
   ]
  },
  {
   "cell_type": "code",
   "execution_count": null,
   "metadata": {
    "colab": {
     "base_uri": "https://localhost:8080/",
     "height": 34
    },
    "colab_type": "code",
    "id": "dY7HLpco8IPF",
    "outputId": "fe95d114-e511-4c8a-904d-18e541725da6"
   },
   "outputs": [],
   "source": []
  },
  {
   "cell_type": "code",
   "execution_count": 23,
   "metadata": {
    "colab": {
     "base_uri": "https://localhost:8080/",
     "height": 1000
    },
    "colab_type": "code",
    "id": "5nrt4q6R9wBi",
    "outputId": "57cb4cb4-1438-412b-daf5-1037a1c77bbe"
   },
   "outputs": [
    {
     "ename": "NameError",
     "evalue": "name 'my_file_1' is not defined",
     "output_type": "error",
     "traceback": [
      "\u001b[0;31m---------------------------------------------------------------------------\u001b[0m",
      "\u001b[0;31mNameError\u001b[0m                                 Traceback (most recent call last)",
      "\u001b[0;32m<ipython-input-23-b84b53041e38>\u001b[0m in \u001b[0;36m<module>\u001b[0;34m\u001b[0m\n\u001b[1;32m      8\u001b[0m \u001b[0;34m\u001b[0m\u001b[0m\n\u001b[1;32m      9\u001b[0m \u001b[0;34m\u001b[0m\u001b[0m\n\u001b[0;32m---> 10\u001b[0;31m \u001b[0mfile\u001b[0m\u001b[0;34m(\u001b[0m\u001b[0;34m\"word.txt\"\u001b[0m\u001b[0;34m,\u001b[0m \u001b[0;34m\"text.txt\"\u001b[0m\u001b[0;34m)\u001b[0m\u001b[0;34m\u001b[0m\u001b[0;34m\u001b[0m\u001b[0m\n\u001b[0m\u001b[1;32m     11\u001b[0m \u001b[0mone\u001b[0m \u001b[0;34m=\u001b[0m \u001b[0mopen\u001b[0m\u001b[0;34m(\u001b[0m\u001b[0;34m\"word.txt\"\u001b[0m\u001b[0;34m,\u001b[0m \u001b[0;34m\"r\"\u001b[0m\u001b[0;34m)\u001b[0m\u001b[0;34m\u001b[0m\u001b[0;34m\u001b[0m\u001b[0m\n\u001b[1;32m     12\u001b[0m \u001b[0;32mfor\u001b[0m \u001b[0mline\u001b[0m \u001b[0;32min\u001b[0m \u001b[0mone\u001b[0m\u001b[0;34m:\u001b[0m\u001b[0;34m\u001b[0m\u001b[0;34m\u001b[0m\u001b[0m\n",
      "\u001b[0;32m<ipython-input-23-b84b53041e38>\u001b[0m in \u001b[0;36mfile\u001b[0;34m(script1, script2)\u001b[0m\n\u001b[1;32m      1\u001b[0m \u001b[0;32mdef\u001b[0m \u001b[0mfile\u001b[0m\u001b[0;34m(\u001b[0m\u001b[0mscript1\u001b[0m\u001b[0;34m,\u001b[0m \u001b[0mscript2\u001b[0m\u001b[0;34m)\u001b[0m\u001b[0;34m:\u001b[0m\u001b[0;34m\u001b[0m\u001b[0;34m\u001b[0m\u001b[0m\n\u001b[0;32m----> 2\u001b[0;31m     \u001b[0;32mwith\u001b[0m \u001b[0mopen\u001b[0m\u001b[0;34m(\u001b[0m\u001b[0;34m\"words.txt\"\u001b[0m\u001b[0;34m,\u001b[0m \u001b[0;34m\"r\"\u001b[0m\u001b[0;34m)\u001b[0m \u001b[0;32min\u001b[0m \u001b[0mmy_file_1\u001b[0m\u001b[0;34m:\u001b[0m\u001b[0;34m\u001b[0m\u001b[0;34m\u001b[0m\u001b[0m\n\u001b[0m\u001b[1;32m      3\u001b[0m         \u001b[0mcontent\u001b[0m \u001b[0;34m=\u001b[0m \u001b[0mmy_file_1\u001b[0m\u001b[0;34m.\u001b[0m\u001b[0mread\u001b[0m\u001b[0;34m(\u001b[0m\u001b[0;34m)\u001b[0m\u001b[0;34m\u001b[0m\u001b[0;34m\u001b[0m\u001b[0m\n\u001b[1;32m      4\u001b[0m     \u001b[0;32mwith\u001b[0m \u001b[0mopen\u001b[0m\u001b[0;34m(\u001b[0m\u001b[0;34m\"text.txt\"\u001b[0m\u001b[0;34m,\u001b[0m \u001b[0;34m\"w\"\u001b[0m\u001b[0;34m)\u001b[0m \u001b[0;32min\u001b[0m \u001b[0mmy_file_2\u001b[0m\u001b[0;34m:\u001b[0m\u001b[0;34m\u001b[0m\u001b[0;34m\u001b[0m\u001b[0m\n\u001b[1;32m      5\u001b[0m         \u001b[0mcontent_1\u001b[0m \u001b[0;34m=\u001b[0m \u001b[0mmy_file_2\u001b[0m\u001b[0;34m.\u001b[0m\u001b[0mread\u001b[0m\u001b[0;34m(\u001b[0m\u001b[0;34m)\u001b[0m\u001b[0;34m\u001b[0m\u001b[0;34m\u001b[0m\u001b[0m\n",
      "\u001b[0;31mNameError\u001b[0m: name 'my_file_1' is not defined"
     ]
    }
   ],
   "source": [
    "def file(script1, script2):\n",
    "    with open(\"words.txt\", \"r\") in my_file_1:\n",
    "        content = my_file_1.read()\n",
    "    with open(\"text.txt\", \"w\") in my_file_2:\n",
    "        content_1 = my_file_2.read()\n",
    "        for line in one:\n",
    "            two.write(line)\n",
    "\n",
    "\n",
    "file(\"word.txt\", \"text.txt\")\n",
    "one = open(\"word.txt\", \"r\")\n",
    "for line in one:\n",
    "    print(one)\n"
   ]
  },
  {
   "cell_type": "code",
   "execution_count": 18,
   "metadata": {
    "colab": {
     "base_uri": "https://localhost:8080/",
     "height": 1000
    },
    "colab_type": "code",
    "id": "LeZ338UiL_aj",
    "outputId": "6f777093-7d1e-4fb1-de75-c8160b273e67"
   },
   "outputs": [],
   "source": [
    "\n",
    "try: \n",
    "    def file(script1, script2):\n",
    "        one = open(\"words.txt\", \"r\")\n",
    "        two = open(\"text.txt\", \"w\")\n",
    "        for line in one:\n",
    "            one.write(line)\n",
    "            file(\"words.txt\", \"text.txt\")\n",
    "            out = open(\"words.txt\", \"r\")\n",
    "        for i in one:\n",
    "            print(yes)\n",
    "except:\n",
    "    print(\"An error happened. Please check yout code !!\")\n"
   ]
  },
  {
   "cell_type": "code",
   "execution_count": 25,
   "metadata": {
    "colab": {
     "base_uri": "https://localhost:8080/",
     "height": 1000
    },
    "colab_type": "code",
    "id": "WDZutf09Mkdd",
    "outputId": "4a3289c4-0e2d-4453-f903-a3b10466f1c3"
   },
   "outputs": [
    {
     "name": "stdout",
     "output_type": "stream",
     "text": [
      "An error happened. Please check yout code !!\n"
     ]
    }
   ],
   "source": [
    "\n",
    "try: \n",
    "    def file(script1, script2):\n",
    "        one=open(\"words.txt\", \"r\")\n",
    "        two=open(\"text.txt\", \"w\")\n",
    "    for line in one:\n",
    "        one.write(line.lower())\n",
    "        list1=[\"the\", \"of\", \"with\", \"it\"] \n",
    "        file(\"words.txt\", \"text.txt\")\n",
    "        one=open(\"text.txt\",\"r\")\n",
    "        for line in one:\n",
    "            for text in line.split():\n",
    "                if text not in list1:\n",
    "                    print(text)\n",
    "except:\n",
    "     print(\"An error happened. Please check yout code !!\")"
   ]
  },
  {
   "cell_type": "code",
   "execution_count": 28,
   "metadata": {
    "colab": {},
    "colab_type": "code",
    "id": "Opk3w-47bwr4"
   },
   "outputs": [],
   "source": [
    "import string, math, os\n",
    "\n",
    "my_file = open(\"song.mp3\")\n",
    "for i in my_file:\n",
    "    for music in i.split():\n",
    "        music = music.lower()\n",
    "\n",
    "def mp3(script):\n",
    "    my_list=[]\n",
    "    for music in os.my_list(script):\n",
    "        if os.path.file(path):\n",
    "                music.append(path)\n",
    "        else:\n",
    "            music.extend(mp3(path))\n",
    "            return music"
   ]
  },
  {
   "cell_type": "code",
   "execution_count": null,
   "metadata": {},
   "outputs": [],
   "source": []
  },
  {
   "cell_type": "code",
   "execution_count": null,
   "metadata": {},
   "outputs": [],
   "source": []
  },
  {
   "cell_type": "code",
   "execution_count": null,
   "metadata": {},
   "outputs": [],
   "source": []
  }
 ],
 "metadata": {
  "colab": {
   "collapsed_sections": [],
   "name": "ass lab4.ipynb",
   "provenance": []
  },
  "kernelspec": {
   "display_name": "Python 3",
   "language": "python",
   "name": "python3"
  },
  "language_info": {
   "codemirror_mode": {
    "name": "ipython",
    "version": 3
   },
   "file_extension": ".py",
   "mimetype": "text/x-python",
   "name": "python",
   "nbconvert_exporter": "python",
   "pygments_lexer": "ipython3",
   "version": "3.7.6"
  }
 },
 "nbformat": 4,
 "nbformat_minor": 1
}
